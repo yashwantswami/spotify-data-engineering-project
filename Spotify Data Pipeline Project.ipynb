{
 "cells": [
  {
   "cell_type": "code",
   "execution_count": 1,
   "id": "aa584d44",
   "metadata": {},
   "outputs": [
    {
     "name": "stdout",
     "output_type": "stream",
     "text": [
      "Requirement already satisfied: spotipy in c:\\python311\\lib\\site-packages (2.23.0)\n",
      "Requirement already satisfied: redis>=3.5.3 in c:\\python311\\lib\\site-packages (from spotipy) (4.5.4)\n",
      "Requirement already satisfied: requests>=2.25.0 in c:\\python311\\lib\\site-packages (from spotipy) (2.30.0)\n",
      "Requirement already satisfied: six>=1.15.0 in c:\\python311\\lib\\site-packages (from spotipy) (1.16.0)\n",
      "Requirement already satisfied: urllib3>=1.26.0 in c:\\python311\\lib\\site-packages (from spotipy) (2.0.2)\n",
      "Requirement already satisfied: async-timeout>=4.0.2 in c:\\python311\\lib\\site-packages (from redis>=3.5.3->spotipy) (4.0.2)\n",
      "Requirement already satisfied: charset-normalizer<4,>=2 in c:\\python311\\lib\\site-packages (from requests>=2.25.0->spotipy) (3.1.0)\n",
      "Requirement already satisfied: idna<4,>=2.5 in c:\\python311\\lib\\site-packages (from requests>=2.25.0->spotipy) (3.4)\n",
      "Requirement already satisfied: certifi>=2017.4.17 in c:\\python311\\lib\\site-packages (from requests>=2.25.0->spotipy) (2022.12.7)\n"
     ]
    }
   ],
   "source": [
    "!pip install spotipy"
   ]
  },
  {
   "cell_type": "code",
   "execution_count": 2,
   "id": "19651477",
   "metadata": {},
   "outputs": [],
   "source": [
    "import spotipy\n",
    "from spotipy.oauth2 import SpotifyClientCredentials\n",
    "import pandas as pd"
   ]
  },
  {
   "cell_type": "code",
   "execution_count": 3,
   "id": "b72c8db4",
   "metadata": {},
   "outputs": [],
   "source": [
    "#add your keys here(for authentication)\n",
    "client_credentials_manager = SpotifyClientCredentials(client_id=\"\", client_secret=\"\")"
   ]
  },
  {
   "cell_type": "code",
   "execution_count": 4,
   "id": "b362970d",
   "metadata": {},
   "outputs": [],
   "source": [
    "sp = spotipy.Spotify(client_credentials_manager = client_credentials_manager)"
   ]
  },
  {
   "cell_type": "code",
   "execution_count": 5,
   "id": "797700ba",
   "metadata": {},
   "outputs": [],
   "source": [
    " playlist_link = \"https://open.spotify.com/playlist/37i9dQZEVXbNG2KDcFcKOF\""
   ]
  },
  {
   "cell_type": "code",
   "execution_count": 6,
   "id": "b23f7c4f",
   "metadata": {},
   "outputs": [
    {
     "data": {
      "text/plain": [
       "['https:', '', 'open.spotify.com', 'playlist', '37i9dQZEVXbNG2KDcFcKOF']"
      ]
     },
     "execution_count": 6,
     "metadata": {},
     "output_type": "execute_result"
    }
   ],
   "source": [
    "playlist_link.split(\"/\")"
   ]
  },
  {
   "cell_type": "code",
   "execution_count": 7,
   "id": "641d0e12",
   "metadata": {},
   "outputs": [],
   "source": [
    "# playlist_URI = playlist_link.split(\"/\")[-1].split('?')[0]\n",
    "playlist_URI = playlist_link.split(\"/\")[-1]"
   ]
  },
  {
   "cell_type": "code",
   "execution_count": 8,
   "id": "a25d200e",
   "metadata": {},
   "outputs": [],
   "source": [
    "# playlist_tracks() is a funtion and we get json format that which store into data variable\n",
    "\n",
    "data = sp.playlist_tracks(playlist_URI) "
   ]
  },
  {
   "cell_type": "code",
   "execution_count": 9,
   "id": "69aee15d",
   "metadata": {},
   "outputs": [
    {
     "data": {
      "text/plain": [
       "50"
      ]
     },
     "execution_count": 9,
     "metadata": {},
     "output_type": "execute_result"
    }
   ],
   "source": [
    "# data['items'][1]\n",
    "len(data['items'])"
   ]
  },
  {
   "cell_type": "markdown",
   "id": "3e7230e2",
   "metadata": {},
   "source": [
    "<b>After spent some time to understanding this JSON data you will understand this api have mainly 3 things. We have album information, song information and artist information. So we extract this create 3 tables to understand.<b>\n",
    "    \n",
    "`1.Album information Extraction Code`\n",
    "    \n",
    "`2.Artist information Extraction Code`\n",
    "    \n",
    "`3.Song information Extraction Code`\n",
    " \n",
    "All of the information store inside <b>`items`<b> Key"
   ]
  },
  {
   "cell_type": "code",
   "execution_count": 10,
   "id": "25100d44",
   "metadata": {},
   "outputs": [
    {
     "data": {
      "text/plain": [
       "'3Mm1P5CEEAiuJqBclr2EyU'"
      ]
     },
     "execution_count": 10,
     "metadata": {},
     "output_type": "execute_result"
    }
   ],
   "source": [
    "# data['items'][0]['track']\n",
    "# data['items'][0]['track']['album']\n",
    "\n",
    "data['items'][0]['track']['album']['id']\n"
   ]
  },
  {
   "cell_type": "code",
   "execution_count": 11,
   "id": "83f9f772",
   "metadata": {},
   "outputs": [
    {
     "data": {
      "text/plain": [
       "'Ella Baila Sola'"
      ]
     },
     "execution_count": 11,
     "metadata": {},
     "output_type": "execute_result"
    }
   ],
   "source": [
    "data['items'][0]['track']['album']['name']"
   ]
  },
  {
   "cell_type": "code",
   "execution_count": 12,
   "id": "5284aea3",
   "metadata": {},
   "outputs": [
    {
     "data": {
      "text/plain": [
       "'2023-03-16'"
      ]
     },
     "execution_count": 12,
     "metadata": {},
     "output_type": "execute_result"
    }
   ],
   "source": [
    "data['items'][0]['track']['album']['release_date']"
   ]
  },
  {
   "cell_type": "code",
   "execution_count": 13,
   "id": "d09090ea",
   "metadata": {},
   "outputs": [
    {
     "data": {
      "text/plain": [
       "1"
      ]
     },
     "execution_count": 13,
     "metadata": {},
     "output_type": "execute_result"
    }
   ],
   "source": [
    "data['items'][0]['track']['album']['total_tracks']"
   ]
  },
  {
   "cell_type": "code",
   "execution_count": 14,
   "id": "53805cf1",
   "metadata": {},
   "outputs": [
    {
     "data": {
      "text/plain": [
       "'https://open.spotify.com/album/3Mm1P5CEEAiuJqBclr2EyU'"
      ]
     },
     "execution_count": 14,
     "metadata": {},
     "output_type": "execute_result"
    }
   ],
   "source": [
    "# data['items'][0]['track']['album']['external_urls']\n",
    "data['items'][0]['track']['album']['external_urls']['spotify']"
   ]
  },
  {
   "cell_type": "markdown",
   "id": "e8f052da",
   "metadata": {},
   "source": [
    "# Album information Extraction Code"
   ]
  },
  {
   "cell_type": "code",
   "execution_count": 15,
   "id": "7aabc55e",
   "metadata": {},
   "outputs": [],
   "source": [
    "album_list = []\n",
    "for row in data['items']:\n",
    "    album_id = row['track']['album']['id']\n",
    "    album_name = row['track']['album']['name']\n",
    "    album_release_date = row['track']['album']['release_date']\n",
    "    album_total_tracks = row['track']['album']['total_tracks']\n",
    "    album_url = row['track']['album']['external_urls']['spotify']  # print(album_url)\n",
    "    \n",
    "    album_element = {'album_id':album_id, 'name':album_name, 'release_date':album_release_date,       #creating dictonary for extract data \n",
    "                         'total_tracks': album_total_tracks, 'url':album_url}\n",
    "\n",
    "    album_list.append(album_element)                                         # print(album_elements)\n",
    "\n"
   ]
  },
  {
   "cell_type": "markdown",
   "id": "0ce31712",
   "metadata": {},
   "source": [
    "**From Json data we are extracting diffrent list then converting it into diffrent dictionary and then we can also create list of dictionary**\n",
    "\n",
    "Now we are getting more structure data out of the messy data"
   ]
  },
  {
   "cell_type": "code",
   "execution_count": 16,
   "id": "7bc18142",
   "metadata": {},
   "outputs": [
    {
     "data": {
      "text/plain": [
       "[{'album_id': '3Mm1P5CEEAiuJqBclr2EyU',\n",
       "  'name': 'Ella Baila Sola',\n",
       "  'release_date': '2023-03-16',\n",
       "  'total_tracks': 1,\n",
       "  'url': 'https://open.spotify.com/album/3Mm1P5CEEAiuJqBclr2EyU'},\n",
       " {'album_id': '7aGzSSUD8S6IhPCsZSiuMT',\n",
       "  'name': 'un x100to',\n",
       "  'release_date': '2023-04-17',\n",
       "  'total_tracks': 1,\n",
       "  'url': 'https://open.spotify.com/album/7aGzSSUD8S6IhPCsZSiuMT'},\n",
       " {'album_id': '6aBVGuOUEuX18rHxyDWbti',\n",
       "  'name': 'La Bebe (Remix)',\n",
       "  'release_date': '2023-03-17',\n",
       "  'total_tracks': 2,\n",
       "  'url': 'https://open.spotify.com/album/6aBVGuOUEuX18rHxyDWbti'},\n",
       " {'album_id': '0HiZ8fNXwJOQcrf5iflrdz',\n",
       "  'name': 'Endless Summer Vacation',\n",
       "  'release_date': '2023-03-10',\n",
       "  'total_tracks': 13,\n",
       "  'url': 'https://open.spotify.com/album/0HiZ8fNXwJOQcrf5iflrdz'},\n",
       " {'album_id': '6NcI39WPu4kY6Tul11nhSv',\n",
       "  'name': 'Daylight',\n",
       "  'release_date': '2023-04-14',\n",
       "  'total_tracks': 1,\n",
       "  'url': 'https://open.spotify.com/album/6NcI39WPu4kY6Tul11nhSv'},\n",
       " {'album_id': '4kS7bSuU0Jm9LYMosFU2x5',\n",
       "  'name': 'MAÑANA SERÁ BONITO',\n",
       "  'release_date': '2023-02-24',\n",
       "  'total_tracks': 17,\n",
       "  'url': 'https://open.spotify.com/album/4kS7bSuU0Jm9LYMosFU2x5'},\n",
       " {'album_id': '1nrVofqDRs7cpWXJ49qTnP',\n",
       "  'name': 'SOS',\n",
       "  'release_date': '2022-12-08',\n",
       "  'total_tracks': 23,\n",
       "  'url': 'https://open.spotify.com/album/1nrVofqDRs7cpWXJ49qTnP'},\n",
       " {'album_id': '4jtQUtS4ABgER3DnGfKJCv',\n",
       "  'name': 'Classy 101',\n",
       "  'release_date': '2023-03-31',\n",
       "  'total_tracks': 1,\n",
       "  'url': 'https://open.spotify.com/album/4jtQUtS4ABgER3DnGfKJCv'},\n",
       " {'album_id': '5letLUZIFsQikJYShfGNs4',\n",
       "  'name': 'The Beginning: Cupid',\n",
       "  'release_date': '2023-02-24',\n",
       "  'total_tracks': 3,\n",
       "  'url': 'https://open.spotify.com/album/5letLUZIFsQikJYShfGNs4'},\n",
       " {'album_id': '50uChhk7AKkzDKytDixjYW',\n",
       "  'name': 'RR',\n",
       "  'release_date': '2023-03-24',\n",
       "  'total_tracks': 3,\n",
       "  'url': 'https://open.spotify.com/album/50uChhk7AKkzDKytDixjYW'},\n",
       " {'album_id': '2OXBosbXT7Qs3J6vBd6IkI',\n",
       "  'name': 'PRC',\n",
       "  'release_date': '2023-01-23',\n",
       "  'total_tracks': 1,\n",
       "  'url': 'https://open.spotify.com/album/2OXBosbXT7Qs3J6vBd6IkI'},\n",
       " {'album_id': '5r36AJ6VOJtp00oxSkBZ5h',\n",
       "  'name': \"Harry's House\",\n",
       "  'release_date': '2022-05-20',\n",
       "  'total_tracks': 13,\n",
       "  'url': 'https://open.spotify.com/album/5r36AJ6VOJtp00oxSkBZ5h'},\n",
       " {'album_id': '6cVfHBcp3AdpYY0bBglkLN',\n",
       "  'name': \"Boy's a liar Pt. 2\",\n",
       "  'release_date': '2023-02-03',\n",
       "  'total_tracks': 2,\n",
       "  'url': 'https://open.spotify.com/album/6cVfHBcp3AdpYY0bBglkLN'},\n",
       " {'album_id': '7txGsnDSqVMoRl6RQ9XyZP',\n",
       "  'name': 'HEROES & VILLAINS',\n",
       "  'release_date': '2022-12-02',\n",
       "  'total_tracks': 15,\n",
       "  'url': 'https://open.spotify.com/album/7txGsnDSqVMoRl6RQ9XyZP'},\n",
       " {'album_id': '35dut3ICqF3NEDkjxfzJJ1',\n",
       "  'name': 'Starboy (Deluxe)',\n",
       "  'release_date': '2023-03-14',\n",
       "  'total_tracks': 21,\n",
       "  'url': 'https://open.spotify.com/album/35dut3ICqF3NEDkjxfzJJ1'},\n",
       " {'album_id': '0Ct52rooGyvjv6qXrBPNzm',\n",
       "  'name': 'Double Fantasy',\n",
       "  'release_date': '2023-04-21',\n",
       "  'total_tracks': 2,\n",
       "  'url': 'https://open.spotify.com/album/0Ct52rooGyvjv6qXrBPNzm'},\n",
       " {'album_id': '2b2GHWESCWEuHiCZ2Skedp',\n",
       "  'name': 'Calm Down (with Selena Gomez)',\n",
       "  'release_date': '2022-08-25',\n",
       "  'total_tracks': 1,\n",
       "  'url': 'https://open.spotify.com/album/2b2GHWESCWEuHiCZ2Skedp'},\n",
       " {'album_id': '0s2sLResjP92wRavoj9k0O',\n",
       "  'name': 'AMG',\n",
       "  'release_date': '2022-11-24',\n",
       "  'total_tracks': 1,\n",
       "  'url': 'https://open.spotify.com/album/0s2sLResjP92wRavoj9k0O'},\n",
       " {'album_id': '5xefnzEqKIWnmTWYFzekGZ',\n",
       "  'name': 'Resistencia',\n",
       "  'release_date': '2023-01-13',\n",
       "  'total_tracks': 17,\n",
       "  'url': 'https://open.spotify.com/album/5xefnzEqKIWnmTWYFzekGZ'},\n",
       " {'album_id': '2szyIt0ulaHnKxxyrlUCDB',\n",
       "  'name': 'El Azul',\n",
       "  'release_date': '2023-02-10',\n",
       "  'total_tracks': 1,\n",
       "  'url': 'https://open.spotify.com/album/2szyIt0ulaHnKxxyrlUCDB'},\n",
       " {'album_id': '446ROKmKfpEwkbi2SjELVX',\n",
       "  'name': 'D-DAY',\n",
       "  'release_date': '2023-04-21',\n",
       "  'total_tracks': 10,\n",
       "  'url': 'https://open.spotify.com/album/446ROKmKfpEwkbi2SjELVX'},\n",
       " {'album_id': '2nkto6YNI4rUYTLqEwWJ3o',\n",
       "  'name': 'Flower Boy',\n",
       "  'release_date': '2017-07-21',\n",
       "  'total_tracks': 14,\n",
       "  'url': 'https://open.spotify.com/album/2nkto6YNI4rUYTLqEwWJ3o'},\n",
       " {'album_id': '4AdZV63ycxFLF6Hcol0QnB',\n",
       "  'name': 'Starboy',\n",
       "  'release_date': '2016-11-24',\n",
       "  'total_tracks': 18,\n",
       "  'url': 'https://open.spotify.com/album/4AdZV63ycxFLF6Hcol0QnB'},\n",
       " {'album_id': '151w1FgRZfnKZA9FEcg9Z3',\n",
       "  'name': 'Midnights',\n",
       "  'release_date': '2022-10-21',\n",
       "  'total_tracks': 13,\n",
       "  'url': 'https://open.spotify.com/album/151w1FgRZfnKZA9FEcg9Z3'},\n",
       " {'album_id': '6i7mF7whyRJuLJ4ogbH2wh',\n",
       "  'name': 'One Thing At A Time',\n",
       "  'release_date': '2023-03-03',\n",
       "  'total_tracks': 36,\n",
       "  'url': 'https://open.spotify.com/album/6i7mF7whyRJuLJ4ogbH2wh'},\n",
       " {'album_id': '7M842DMhYVALrXsw3ty7B3',\n",
       "  'name': \"I'm Good (Blue)\",\n",
       "  'release_date': '2022-08-26',\n",
       "  'total_tracks': 2,\n",
       "  'url': 'https://open.spotify.com/album/7M842DMhYVALrXsw3ty7B3'},\n",
       " {'album_id': '1gi2iwr1l8IUyHYHxi01pg',\n",
       "  'name': 'Shakira: Bzrp Music Sessions, Vol. 53',\n",
       "  'release_date': '2023-01-11',\n",
       "  'total_tracks': 1,\n",
       "  'url': 'https://open.spotify.com/album/1gi2iwr1l8IUyHYHxi01pg'},\n",
       " {'album_id': '2ODvWsOgouMbaA5xf0RkJe',\n",
       "  'name': 'Starboy',\n",
       "  'release_date': '2016-11-25',\n",
       "  'total_tracks': 18,\n",
       "  'url': 'https://open.spotify.com/album/2ODvWsOgouMbaA5xf0RkJe'},\n",
       " {'album_id': '78bpIziExqiI9qztvNFlQu',\n",
       "  'name': 'AM',\n",
       "  'release_date': '2013-09-09',\n",
       "  'total_tracks': 12,\n",
       "  'url': 'https://open.spotify.com/album/78bpIziExqiI9qztvNFlQu'},\n",
       " {'album_id': '6USJaTtVIy0YH5hhzOWVHe',\n",
       "  'name': 'Por las Noches',\n",
       "  'release_date': '2021-06-11',\n",
       "  'total_tracks': 1,\n",
       "  'url': 'https://open.spotify.com/album/6USJaTtVIy0YH5hhzOWVHe'},\n",
       " {'album_id': '3Uq1jNGnD412ZvCb6j2DKV',\n",
       "  'name': 'Gloria',\n",
       "  'release_date': '2023-01-27',\n",
       "  'total_tracks': 13,\n",
       "  'url': 'https://open.spotify.com/album/3Uq1jNGnD412ZvCb6j2DKV'},\n",
       " {'album_id': '0OuoHWf8yB0TPzoBWw1R1S',\n",
       "  'name': 'Here With Me',\n",
       "  'release_date': '2022-09-22',\n",
       "  'total_tracks': 1,\n",
       "  'url': 'https://open.spotify.com/album/0OuoHWf8yB0TPzoBWw1R1S'},\n",
       " {'album_id': '69AaAkdktFGnk9POmHENkT',\n",
       "  'name': 'this is what ____ feels like (Vol. 1-4)',\n",
       "  'release_date': '2022-09-23',\n",
       "  'total_tracks': 12,\n",
       "  'url': 'https://open.spotify.com/album/69AaAkdktFGnk9POmHENkT'},\n",
       " {'album_id': '67WUCOjyl44d8fAFzHONjW',\n",
       "  'name': 'Search & Rescue',\n",
       "  'release_date': '2023-04-07',\n",
       "  'total_tracks': 1,\n",
       "  'url': 'https://open.spotify.com/album/67WUCOjyl44d8fAFzHONjW'},\n",
       " {'album_id': '1DsM0AOBGPPIDp0gWN8Zb4',\n",
       "  'name': 'The Diamond Collection',\n",
       "  'release_date': '2023-04-21',\n",
       "  'total_tracks': 9,\n",
       "  'url': 'https://open.spotify.com/album/1DsM0AOBGPPIDp0gWN8Zb4'},\n",
       " {'album_id': '0KGBW1MQtC2aFPCDUdAkdJ',\n",
       "  'name': 'Long Way Down',\n",
       "  'release_date': '2013-06-17',\n",
       "  'total_tracks': 10,\n",
       "  'url': 'https://open.spotify.com/album/0KGBW1MQtC2aFPCDUdAkdJ'},\n",
       " {'album_id': '1kjfMVBNhsDeRyAu9zbLfF',\n",
       "  'name': 'OzuTochi',\n",
       "  'release_date': '2022-10-07',\n",
       "  'total_tracks': 18,\n",
       "  'url': 'https://open.spotify.com/album/1kjfMVBNhsDeRyAu9zbLfF'},\n",
       " {'album_id': '4xc3Lc9yASZgEJGH7acWMB',\n",
       "  'name': 'FACE',\n",
       "  'release_date': '2023-03-24',\n",
       "  'total_tracks': 6,\n",
       "  'url': 'https://open.spotify.com/album/4xc3Lc9yASZgEJGH7acWMB'},\n",
       " {'album_id': '4QuczuzDZNzCDli5Gz6DQ0',\n",
       "  'name': 'ME',\n",
       "  'release_date': '2023-03-31',\n",
       "  'total_tracks': 2,\n",
       "  'url': 'https://open.spotify.com/album/4QuczuzDZNzCDli5Gz6DQ0'},\n",
       " {'album_id': '7ARtQpvnPN2ucbmVHngLOs',\n",
       "  'name': 'Until I Found You (Em Beihold Version)',\n",
       "  'release_date': '2022-04-22',\n",
       "  'total_tracks': 1,\n",
       "  'url': 'https://open.spotify.com/album/7ARtQpvnPN2ucbmVHngLOs'},\n",
       " {'album_id': '33inEak0hNKMDePhjGxE61',\n",
       "  'name': 'OneRepublic (Japan Paradise Tour Edition)',\n",
       "  'release_date': '2023-02-15',\n",
       "  'total_tracks': 18,\n",
       "  'url': 'https://open.spotify.com/album/33inEak0hNKMDePhjGxE61'},\n",
       " {'album_id': '7ubO2LZJZFpyhiWMZkRwcH',\n",
       "  'name': '2000',\n",
       "  'release_date': '2023-03-17',\n",
       "  'total_tracks': 15,\n",
       "  'url': 'https://open.spotify.com/album/7ubO2LZJZFpyhiWMZkRwcH'},\n",
       " {'album_id': '4PNqWiJAfjj32hVvlchV5u',\n",
       "  'name': 'Quevedo: Bzrp Music Sessions, Vol. 52',\n",
       "  'release_date': '2022-07-06',\n",
       "  'total_tracks': 1,\n",
       "  'url': 'https://open.spotify.com/album/4PNqWiJAfjj32hVvlchV5u'},\n",
       " {'album_id': '6BGN5CVd7koJApotl5Bj8u',\n",
       "  'name': '3MEN2 KBRN',\n",
       "  'release_date': '2023-03-17',\n",
       "  'total_tracks': 18,\n",
       "  'url': 'https://open.spotify.com/album/6BGN5CVd7koJApotl5Bj8u'},\n",
       " {'album_id': '1kTlYbs28MXw7hwO0NLYif',\n",
       "  'name': 'Encore (Deluxe Version)',\n",
       "  'release_date': '2004-11-12',\n",
       "  'total_tracks': 23,\n",
       "  'url': 'https://open.spotify.com/album/1kTlYbs28MXw7hwO0NLYif'},\n",
       " {'album_id': '26wRfIX4WqKLKHll9O3KnF',\n",
       "  'name': 'Rara Vez',\n",
       "  'release_date': '2023-02-08',\n",
       "  'total_tracks': 1,\n",
       "  'url': 'https://open.spotify.com/album/26wRfIX4WqKLKHll9O3KnF'},\n",
       " {'album_id': '0DqHNI5QhosQmpQ5Ojzqe6',\n",
       "  'name': 'El Gordo Trae El Mando',\n",
       "  'release_date': '2023-01-27',\n",
       "  'total_tracks': 1,\n",
       "  'url': 'https://open.spotify.com/album/0DqHNI5QhosQmpQ5Ojzqe6'},\n",
       " {'album_id': '3U8n8LzBx2o9gYXvvNq4uH',\n",
       "  'name': 'My 21st Century Blues',\n",
       "  'release_date': '2023-02-03',\n",
       "  'total_tracks': 15,\n",
       "  'url': 'https://open.spotify.com/album/3U8n8LzBx2o9gYXvvNq4uH'},\n",
       " {'album_id': '4cd4QB02mwPtiTOJBzQmWo',\n",
       "  'name': 'Chanel',\n",
       "  'release_date': '2023-03-30',\n",
       "  'total_tracks': 1,\n",
       "  'url': 'https://open.spotify.com/album/4cd4QB02mwPtiTOJBzQmWo'},\n",
       " {'album_id': '7JH7pr10sJV9caUhk3ORyK',\n",
       "  'name': 'Sigan Hablando',\n",
       "  'release_date': '2022-12-28',\n",
       "  'total_tracks': 13,\n",
       "  'url': 'https://open.spotify.com/album/7JH7pr10sJV9caUhk3ORyK'}]"
      ]
     },
     "execution_count": 16,
     "metadata": {},
     "output_type": "execute_result"
    }
   ],
   "source": [
    "album_list"
   ]
  },
  {
   "cell_type": "markdown",
   "id": "b05bcc0c",
   "metadata": {},
   "source": [
    "# Artist information Extraction Code"
   ]
  },
  {
   "cell_type": "code",
   "execution_count": 17,
   "id": "b8a8dd44",
   "metadata": {},
   "outputs": [
    {
     "data": {
      "text/plain": [
       "[{'external_urls': {'spotify': 'https://open.spotify.com/artist/0XeEobZplHxzM9QzFQWLiR'},\n",
       "  'href': 'https://api.spotify.com/v1/artists/0XeEobZplHxzM9QzFQWLiR',\n",
       "  'id': '0XeEobZplHxzM9QzFQWLiR',\n",
       "  'name': 'Eslabon Armado',\n",
       "  'type': 'artist',\n",
       "  'uri': 'spotify:artist:0XeEobZplHxzM9QzFQWLiR'},\n",
       " {'external_urls': {'spotify': 'https://open.spotify.com/artist/12GqGscKJx3aE4t07u7eVZ'},\n",
       "  'href': 'https://api.spotify.com/v1/artists/12GqGscKJx3aE4t07u7eVZ',\n",
       "  'id': '12GqGscKJx3aE4t07u7eVZ',\n",
       "  'name': 'Peso Pluma',\n",
       "  'type': 'artist',\n",
       "  'uri': 'spotify:artist:12GqGscKJx3aE4t07u7eVZ'}]"
      ]
     },
     "execution_count": 17,
     "metadata": {},
     "output_type": "execute_result"
    }
   ],
   "source": [
    "# data['items'][3]['track']['artists'] #no nested json but\n",
    "data['items'][0]['track']['artists'] #for one song their is multiple arist so we have list of artist for one song\n"
   ]
  },
  {
   "cell_type": "markdown",
   "id": "0ca0aa6b",
   "metadata": {},
   "source": [
    "For one song their is multiple arist we have to tackle this scenario(nested dictionary json)"
   ]
  },
  {
   "cell_type": "code",
   "execution_count": 18,
   "id": "02ba415f",
   "metadata": {},
   "outputs": [],
   "source": [
    "# for row in data['items']:\n",
    "#     for key, value in row.items():\n",
    "#         if key == \"track\":\n",
    "#             print(value['artists'])\n",
    "    "
   ]
  },
  {
   "cell_type": "code",
   "execution_count": 19,
   "id": "da12b349",
   "metadata": {},
   "outputs": [],
   "source": [
    "artist_list = []\n",
    "for row in data['items']:\n",
    "    for key, value in row.items():\n",
    "        if key == \"track\":\n",
    "            for artist in value['artists']:\n",
    "                #print(artist)\n",
    "                #print(artist['id'])\n",
    "                artist_dict = {'artist_id':artist['id'],'artist_name':artist['name'], 'external_url':artist['href'],}\n",
    "                artist_list.append(artist_dict)\n",
    "               "
   ]
  },
  {
   "cell_type": "code",
   "execution_count": 20,
   "id": "cab90ebf",
   "metadata": {},
   "outputs": [
    {
     "data": {
      "text/plain": [
       "[{'artist_id': '0XeEobZplHxzM9QzFQWLiR',\n",
       "  'artist_name': 'Eslabon Armado',\n",
       "  'external_url': 'https://api.spotify.com/v1/artists/0XeEobZplHxzM9QzFQWLiR'},\n",
       " {'artist_id': '12GqGscKJx3aE4t07u7eVZ',\n",
       "  'artist_name': 'Peso Pluma',\n",
       "  'external_url': 'https://api.spotify.com/v1/artists/12GqGscKJx3aE4t07u7eVZ'},\n",
       " {'artist_id': '6XkjpgcEsYab502Vr1bBeW',\n",
       "  'artist_name': 'Grupo Frontera',\n",
       "  'external_url': 'https://api.spotify.com/v1/artists/6XkjpgcEsYab502Vr1bBeW'},\n",
       " {'artist_id': '4q3ewBCX7sLwd24euuV69X',\n",
       "  'artist_name': 'Bad Bunny',\n",
       "  'external_url': 'https://api.spotify.com/v1/artists/4q3ewBCX7sLwd24euuV69X'},\n",
       " {'artist_id': '1NNRWkhwmcXRimFYSBpB1y',\n",
       "  'artist_name': 'Yng Lvcas',\n",
       "  'external_url': 'https://api.spotify.com/v1/artists/1NNRWkhwmcXRimFYSBpB1y'},\n",
       " {'artist_id': '12GqGscKJx3aE4t07u7eVZ',\n",
       "  'artist_name': 'Peso Pluma',\n",
       "  'external_url': 'https://api.spotify.com/v1/artists/12GqGscKJx3aE4t07u7eVZ'},\n",
       " {'artist_id': '5YGY8feqx7naU7z4HrwZM6',\n",
       "  'artist_name': 'Miley Cyrus',\n",
       "  'external_url': 'https://api.spotify.com/v1/artists/5YGY8feqx7naU7z4HrwZM6'},\n",
       " {'artist_id': '33NVpKoXjItPwUJTMZIOiY',\n",
       "  'artist_name': 'David Kushner',\n",
       "  'external_url': 'https://api.spotify.com/v1/artists/33NVpKoXjItPwUJTMZIOiY'},\n",
       " {'artist_id': '790FomKkXshlbRYZFtlgla',\n",
       "  'artist_name': 'KAROL G',\n",
       "  'external_url': 'https://api.spotify.com/v1/artists/790FomKkXshlbRYZFtlgla'},\n",
       " {'artist_id': '0EmeFodog0BfCgMzAIvKQp',\n",
       "  'artist_name': 'Shakira',\n",
       "  'external_url': 'https://api.spotify.com/v1/artists/0EmeFodog0BfCgMzAIvKQp'},\n",
       " {'artist_id': '7tYKF4w9nC0nq9CsPZTHyP',\n",
       "  'artist_name': 'SZA',\n",
       "  'external_url': 'https://api.spotify.com/v1/artists/7tYKF4w9nC0nq9CsPZTHyP'},\n",
       " {'artist_id': '2LRoIwlKmHjgvigdNGBHNo',\n",
       "  'artist_name': 'Feid',\n",
       "  'external_url': 'https://api.spotify.com/v1/artists/2LRoIwlKmHjgvigdNGBHNo'},\n",
       " {'artist_id': '3qsKSpcV3ncke3hw52JSMB',\n",
       "  'artist_name': 'Young Miko',\n",
       "  'external_url': 'https://api.spotify.com/v1/artists/3qsKSpcV3ncke3hw52JSMB'},\n",
       " {'artist_id': '4GJ6xDCF5jaUqD6avOuQT6',\n",
       "  'artist_name': 'FIFTY FIFTY',\n",
       "  'external_url': 'https://api.spotify.com/v1/artists/4GJ6xDCF5jaUqD6avOuQT6'},\n",
       " {'artist_id': '7ltDVBr6mKbRvohxheJ9h1',\n",
       "  'artist_name': 'ROSALÍA',\n",
       "  'external_url': 'https://api.spotify.com/v1/artists/7ltDVBr6mKbRvohxheJ9h1'},\n",
       " {'artist_id': '1mcTU81TzQhprhouKaTkpq',\n",
       "  'artist_name': 'Rauw Alejandro',\n",
       "  'external_url': 'https://api.spotify.com/v1/artists/1mcTU81TzQhprhouKaTkpq'},\n",
       " {'artist_id': '12GqGscKJx3aE4t07u7eVZ',\n",
       "  'artist_name': 'Peso Pluma',\n",
       "  'external_url': 'https://api.spotify.com/v1/artists/12GqGscKJx3aE4t07u7eVZ'},\n",
       " {'artist_id': '0elWFr7TW8piilVRYJUe4P',\n",
       "  'artist_name': 'Natanael Cano',\n",
       "  'external_url': 'https://api.spotify.com/v1/artists/0elWFr7TW8piilVRYJUe4P'},\n",
       " {'artist_id': '6KImCVD70vtIoJWnq6nGn3',\n",
       "  'artist_name': 'Harry Styles',\n",
       "  'external_url': 'https://api.spotify.com/v1/artists/6KImCVD70vtIoJWnq6nGn3'},\n",
       " {'artist_id': '78rUTD7y6Cy67W1RVzYs7t',\n",
       "  'artist_name': 'PinkPantheress',\n",
       "  'external_url': 'https://api.spotify.com/v1/artists/78rUTD7y6Cy67W1RVzYs7t'},\n",
       " {'artist_id': '3LZZPxNDGDFVSIPqf4JuEf',\n",
       "  'artist_name': 'Ice Spice',\n",
       "  'external_url': 'https://api.spotify.com/v1/artists/3LZZPxNDGDFVSIPqf4JuEf'},\n",
       " {'artist_id': '0iEtIxbK0KxaSlF7G42ZOp',\n",
       "  'artist_name': 'Metro Boomin',\n",
       "  'external_url': 'https://api.spotify.com/v1/artists/0iEtIxbK0KxaSlF7G42ZOp'},\n",
       " {'artist_id': '1Xyo4u8uXC1ZmMpatF05PJ',\n",
       "  'artist_name': 'The Weeknd',\n",
       "  'external_url': 'https://api.spotify.com/v1/artists/1Xyo4u8uXC1ZmMpatF05PJ'},\n",
       " {'artist_id': '1URnnhqYAYcrqrcwql10ft',\n",
       "  'artist_name': '21 Savage',\n",
       "  'external_url': 'https://api.spotify.com/v1/artists/1URnnhqYAYcrqrcwql10ft'},\n",
       " {'artist_id': '1Xyo4u8uXC1ZmMpatF05PJ',\n",
       "  'artist_name': 'The Weeknd',\n",
       "  'external_url': 'https://api.spotify.com/v1/artists/1Xyo4u8uXC1ZmMpatF05PJ'},\n",
       " {'artist_id': '66CXWjxzNUsdJxJ2JdwvnR',\n",
       "  'artist_name': 'Ariana Grande',\n",
       "  'external_url': 'https://api.spotify.com/v1/artists/66CXWjxzNUsdJxJ2JdwvnR'},\n",
       " {'artist_id': '1Xyo4u8uXC1ZmMpatF05PJ',\n",
       "  'artist_name': 'The Weeknd',\n",
       "  'external_url': 'https://api.spotify.com/v1/artists/1Xyo4u8uXC1ZmMpatF05PJ'},\n",
       " {'artist_id': '1RyvyyTE3xzB2ZywiAwp0i',\n",
       "  'artist_name': 'Future',\n",
       "  'external_url': 'https://api.spotify.com/v1/artists/1RyvyyTE3xzB2ZywiAwp0i'},\n",
       " {'artist_id': '46pWGuE3dSwY3bMMXGBvVS',\n",
       "  'artist_name': 'Rema',\n",
       "  'external_url': 'https://api.spotify.com/v1/artists/46pWGuE3dSwY3bMMXGBvVS'},\n",
       " {'artist_id': '0C8ZW7ezQVs4URX5aX7Kqx',\n",
       "  'artist_name': 'Selena Gomez',\n",
       "  'external_url': 'https://api.spotify.com/v1/artists/0C8ZW7ezQVs4URX5aX7Kqx'},\n",
       " {'artist_id': '0elWFr7TW8piilVRYJUe4P',\n",
       "  'artist_name': 'Natanael Cano',\n",
       "  'external_url': 'https://api.spotify.com/v1/artists/0elWFr7TW8piilVRYJUe4P'},\n",
       " {'artist_id': '12GqGscKJx3aE4t07u7eVZ',\n",
       "  'artist_name': 'Peso Pluma',\n",
       "  'external_url': 'https://api.spotify.com/v1/artists/12GqGscKJx3aE4t07u7eVZ'},\n",
       " {'artist_id': '6Sbl0NT50roqWvy746MfVf',\n",
       "  'artist_name': 'Gabito Ballesteros',\n",
       "  'external_url': 'https://api.spotify.com/v1/artists/6Sbl0NT50roqWvy746MfVf'},\n",
       " {'artist_id': '0eHQ9o50hj6ZDNBt6Ys1sD',\n",
       "  'artist_name': 'Yandel',\n",
       "  'external_url': 'https://api.spotify.com/v1/artists/0eHQ9o50hj6ZDNBt6Ys1sD'},\n",
       " {'artist_id': '2LRoIwlKmHjgvigdNGBHNo',\n",
       "  'artist_name': 'Feid',\n",
       "  'external_url': 'https://api.spotify.com/v1/artists/2LRoIwlKmHjgvigdNGBHNo'},\n",
       " {'artist_id': '7Gi6gjaWy3DxyilpF1a8Is',\n",
       "  'artist_name': 'Junior H',\n",
       "  'external_url': 'https://api.spotify.com/v1/artists/7Gi6gjaWy3DxyilpF1a8Is'},\n",
       " {'artist_id': '12GqGscKJx3aE4t07u7eVZ',\n",
       "  'artist_name': 'Peso Pluma',\n",
       "  'external_url': 'https://api.spotify.com/v1/artists/12GqGscKJx3aE4t07u7eVZ'},\n",
       " {'artist_id': '5RmQ8k4l3HZ8JoPb4mNsML',\n",
       "  'artist_name': 'Agust D',\n",
       "  'external_url': 'https://api.spotify.com/v1/artists/5RmQ8k4l3HZ8JoPb4mNsML'},\n",
       " {'artist_id': '4V8LLVI7PbaPR0K2TGSxFF',\n",
       "  'artist_name': 'Tyler, The Creator',\n",
       "  'external_url': 'https://api.spotify.com/v1/artists/4V8LLVI7PbaPR0K2TGSxFF'},\n",
       " {'artist_id': '1U1el3k54VvEUzo3ybLPlM',\n",
       "  'artist_name': 'Kali Uchis',\n",
       "  'external_url': 'https://api.spotify.com/v1/artists/1U1el3k54VvEUzo3ybLPlM'},\n",
       " {'artist_id': '1Xyo4u8uXC1ZmMpatF05PJ',\n",
       "  'artist_name': 'The Weeknd',\n",
       "  'external_url': 'https://api.spotify.com/v1/artists/1Xyo4u8uXC1ZmMpatF05PJ'},\n",
       " {'artist_id': '06HL4z0CvFAxyc27GXpf02',\n",
       "  'artist_name': 'Taylor Swift',\n",
       "  'external_url': 'https://api.spotify.com/v1/artists/06HL4z0CvFAxyc27GXpf02'},\n",
       " {'artist_id': '4oUHIQIBe0LHzYfvXNW4QM',\n",
       "  'artist_name': 'Morgan Wallen',\n",
       "  'external_url': 'https://api.spotify.com/v1/artists/4oUHIQIBe0LHzYfvXNW4QM'},\n",
       " {'artist_id': '1Cs0zKBU1kc0i8ypK3B9ai',\n",
       "  'artist_name': 'David Guetta',\n",
       "  'external_url': 'https://api.spotify.com/v1/artists/1Cs0zKBU1kc0i8ypK3B9ai'},\n",
       " {'artist_id': '64M6ah0SkkRsnPGtGiRAbb',\n",
       "  'artist_name': 'Bebe Rexha',\n",
       "  'external_url': 'https://api.spotify.com/v1/artists/64M6ah0SkkRsnPGtGiRAbb'},\n",
       " {'artist_id': '716NhGYqD1jl2wI1Qkgq36',\n",
       "  'artist_name': 'Bizarrap',\n",
       "  'external_url': 'https://api.spotify.com/v1/artists/716NhGYqD1jl2wI1Qkgq36'},\n",
       " {'artist_id': '0EmeFodog0BfCgMzAIvKQp',\n",
       "  'artist_name': 'Shakira',\n",
       "  'external_url': 'https://api.spotify.com/v1/artists/0EmeFodog0BfCgMzAIvKQp'},\n",
       " {'artist_id': '1Xyo4u8uXC1ZmMpatF05PJ',\n",
       "  'artist_name': 'The Weeknd',\n",
       "  'external_url': 'https://api.spotify.com/v1/artists/1Xyo4u8uXC1ZmMpatF05PJ'},\n",
       " {'artist_id': '4tZwfgrHOc3mvqYlEYSvVi',\n",
       "  'artist_name': 'Daft Punk',\n",
       "  'external_url': 'https://api.spotify.com/v1/artists/4tZwfgrHOc3mvqYlEYSvVi'},\n",
       " {'artist_id': '7Ln80lUS6He07XvHI8qqHH',\n",
       "  'artist_name': 'Arctic Monkeys',\n",
       "  'external_url': 'https://api.spotify.com/v1/artists/7Ln80lUS6He07XvHI8qqHH'},\n",
       " {'artist_id': '12GqGscKJx3aE4t07u7eVZ',\n",
       "  'artist_name': 'Peso Pluma',\n",
       "  'external_url': 'https://api.spotify.com/v1/artists/12GqGscKJx3aE4t07u7eVZ'},\n",
       " {'artist_id': '2wY79sveU1sp5g7SokKOiI',\n",
       "  'artist_name': 'Sam Smith',\n",
       "  'external_url': 'https://api.spotify.com/v1/artists/2wY79sveU1sp5g7SokKOiI'},\n",
       " {'artist_id': '3Xt3RrJMFv5SZkCfUE8C1J',\n",
       "  'artist_name': 'Kim Petras',\n",
       "  'external_url': 'https://api.spotify.com/v1/artists/3Xt3RrJMFv5SZkCfUE8C1J'},\n",
       " {'artist_id': '5y8tKLUfMvliMe8IKamR32',\n",
       "  'artist_name': 'd4vd',\n",
       "  'external_url': 'https://api.spotify.com/v1/artists/5y8tKLUfMvliMe8IKamR32'},\n",
       " {'artist_id': '164Uj4eKjl6zTBKfJLFKKK',\n",
       "  'artist_name': 'JVKE',\n",
       "  'external_url': 'https://api.spotify.com/v1/artists/164Uj4eKjl6zTBKfJLFKKK'},\n",
       " {'artist_id': '3TVXtAsR1Inumwj472S9r4',\n",
       "  'artist_name': 'Drake',\n",
       "  'external_url': 'https://api.spotify.com/v1/artists/3TVXtAsR1Inumwj472S9r4'},\n",
       " {'artist_id': '246dkjvS1zLTtiykXe5h60',\n",
       "  'artist_name': 'Post Malone',\n",
       "  'external_url': 'https://api.spotify.com/v1/artists/246dkjvS1zLTtiykXe5h60'},\n",
       " {'artist_id': '2txHhyCwHjUEpJjWrEyqyX',\n",
       "  'artist_name': 'Tom Odell',\n",
       "  'external_url': 'https://api.spotify.com/v1/artists/2txHhyCwHjUEpJjWrEyqyX'},\n",
       " {'artist_id': '1i8SpTcr7yvPOmcqrbnVXY',\n",
       "  'artist_name': 'Ozuna',\n",
       "  'external_url': 'https://api.spotify.com/v1/artists/1i8SpTcr7yvPOmcqrbnVXY'},\n",
       " {'artist_id': '2LRoIwlKmHjgvigdNGBHNo',\n",
       "  'artist_name': 'Feid',\n",
       "  'external_url': 'https://api.spotify.com/v1/artists/2LRoIwlKmHjgvigdNGBHNo'},\n",
       " {'artist_id': '1oSPZhvZMIrWW5I41kPkkY',\n",
       "  'artist_name': 'Jimin',\n",
       "  'external_url': 'https://api.spotify.com/v1/artists/1oSPZhvZMIrWW5I41kPkkY'},\n",
       " {'artist_id': '6UZ0ba50XreR4TM8u322gs',\n",
       "  'artist_name': 'JISOO',\n",
       "  'external_url': 'https://api.spotify.com/v1/artists/6UZ0ba50XreR4TM8u322gs'},\n",
       " {'artist_id': '5XKFrudbV4IiuE5WuTPRmT',\n",
       "  'artist_name': 'Stephen Sanchez',\n",
       "  'external_url': 'https://api.spotify.com/v1/artists/5XKFrudbV4IiuE5WuTPRmT'},\n",
       " {'artist_id': '7o2ZQYM7nTsaVdkXY38UAA',\n",
       "  'artist_name': 'Em Beihold',\n",
       "  'external_url': 'https://api.spotify.com/v1/artists/7o2ZQYM7nTsaVdkXY38UAA'},\n",
       " {'artist_id': '5Pwc4xIPtQLFEnJriah9YJ',\n",
       "  'artist_name': 'OneRepublic',\n",
       "  'external_url': 'https://api.spotify.com/v1/artists/5Pwc4xIPtQLFEnJriah9YJ'},\n",
       " {'artist_id': '0tmwSHipWxN12fsoLcFU3B',\n",
       "  'artist_name': 'Manuel Turizo',\n",
       "  'external_url': 'https://api.spotify.com/v1/artists/0tmwSHipWxN12fsoLcFU3B'},\n",
       " {'artist_id': '716NhGYqD1jl2wI1Qkgq36',\n",
       "  'artist_name': 'Bizarrap',\n",
       "  'external_url': 'https://api.spotify.com/v1/artists/716NhGYqD1jl2wI1Qkgq36'},\n",
       " {'artist_id': '52iwsT98xCoGgiGntTiR7K',\n",
       "  'artist_name': 'Quevedo',\n",
       "  'external_url': 'https://api.spotify.com/v1/artists/52iwsT98xCoGgiGntTiR7K'},\n",
       " {'artist_id': '5XJDexmWFLWOkjOEjOVX3e',\n",
       "  'artist_name': 'Eladio Carrion',\n",
       "  'external_url': 'https://api.spotify.com/v1/artists/5XJDexmWFLWOkjOEjOVX3e'},\n",
       " {'artist_id': '4q3ewBCX7sLwd24euuV69X',\n",
       "  'artist_name': 'Bad Bunny',\n",
       "  'external_url': 'https://api.spotify.com/v1/artists/4q3ewBCX7sLwd24euuV69X'},\n",
       " {'artist_id': '7dGJo4pcD2V6oG8kP0tJRR',\n",
       "  'artist_name': 'Eminem',\n",
       "  'external_url': 'https://api.spotify.com/v1/artists/7dGJo4pcD2V6oG8kP0tJRR'},\n",
       " {'artist_id': '5szJHKg5xeUlQ9pTqzdpic',\n",
       "  'artist_name': 'Taiu',\n",
       "  'external_url': 'https://api.spotify.com/v1/artists/5szJHKg5xeUlQ9pTqzdpic'},\n",
       " {'artist_id': '19HM5j0ULGSmEoRcrSe5x3',\n",
       "  'artist_name': 'Milo j',\n",
       "  'external_url': 'https://api.spotify.com/v1/artists/19HM5j0ULGSmEoRcrSe5x3'},\n",
       " {'artist_id': '2rmkQLzj0k4nZdQehOUByO',\n",
       "  'artist_name': 'Chino Pacas',\n",
       "  'external_url': 'https://api.spotify.com/v1/artists/2rmkQLzj0k4nZdQehOUByO'},\n",
       " {'artist_id': '5KKpBU5eC2tJDzf0wmlRp2',\n",
       "  'artist_name': 'RAYE',\n",
       "  'external_url': 'https://api.spotify.com/v1/artists/5KKpBU5eC2tJDzf0wmlRp2'},\n",
       " {'artist_id': '12Zk1DFhCbHY6v3xep2ZjI',\n",
       "  'artist_name': '070 Shake',\n",
       "  'external_url': 'https://api.spotify.com/v1/artists/12Zk1DFhCbHY6v3xep2ZjI'},\n",
       " {'artist_id': '4obzFoKoKRHIphyHzJ35G3',\n",
       "  'artist_name': 'Becky G',\n",
       "  'external_url': 'https://api.spotify.com/v1/artists/4obzFoKoKRHIphyHzJ35G3'},\n",
       " {'artist_id': '12GqGscKJx3aE4t07u7eVZ',\n",
       "  'artist_name': 'Peso Pluma',\n",
       "  'external_url': 'https://api.spotify.com/v1/artists/12GqGscKJx3aE4t07u7eVZ'},\n",
       " {'artist_id': '0ys2OFYzWYB5hRDLCsBqxt',\n",
       "  'artist_name': 'Fuerza Regida',\n",
       "  'external_url': 'https://api.spotify.com/v1/artists/0ys2OFYzWYB5hRDLCsBqxt'},\n",
       " {'artist_id': '6XkjpgcEsYab502Vr1bBeW',\n",
       "  'artist_name': 'Grupo Frontera',\n",
       "  'external_url': 'https://api.spotify.com/v1/artists/6XkjpgcEsYab502Vr1bBeW'}]"
      ]
     },
     "execution_count": 20,
     "metadata": {},
     "output_type": "execute_result"
    }
   ],
   "source": [
    "artist_list"
   ]
  },
  {
   "cell_type": "markdown",
   "id": "8f696a80",
   "metadata": {},
   "source": [
    "#  Song information Extraction Code"
   ]
  },
  {
   "cell_type": "code",
   "execution_count": 21,
   "id": "43c36088",
   "metadata": {},
   "outputs": [],
   "source": [
    "song_list = []\n",
    "for row in data['items']:\n",
    "    song_id = row['track']['id']\n",
    "    song_name = row['track']['name']\n",
    "    song_duration = row['track']['duration_ms']\n",
    "    song_url = row['track']['external_urls']['spotify']\n",
    "    song_popularity = row['track']['popularity']\n",
    "    song_added = row['added_at']\n",
    "    album_id = row['track']['album']['id']\n",
    "    artist_id = row['track']['album']['artists'][0]['id']\n",
    "    song_element = {'song_id':song_id,'song_name':song_name,'duration_ms':song_duration,'url':song_url,\n",
    "                    'popularity':song_popularity,'song_added':song_added,'album_id':album_id,\n",
    "                    'artist_id':artist_id\n",
    "                   }\n",
    "    song_list.append(song_element)"
   ]
  },
  {
   "cell_type": "markdown",
   "id": "b9a92b69",
   "metadata": {},
   "source": [
    "# Convert data into DataFrame from dictionary"
   ]
  },
  {
   "cell_type": "code",
   "execution_count": 22,
   "id": "8b027206",
   "metadata": {},
   "outputs": [],
   "source": [
    "#Album Dataframe\n",
    "album_df = pd.DataFrame.from_dict(album_list)"
   ]
  },
  {
   "cell_type": "code",
   "execution_count": 23,
   "id": "796bdc10",
   "metadata": {},
   "outputs": [
    {
     "data": {
      "text/html": [
       "<div>\n",
       "<style scoped>\n",
       "    .dataframe tbody tr th:only-of-type {\n",
       "        vertical-align: middle;\n",
       "    }\n",
       "\n",
       "    .dataframe tbody tr th {\n",
       "        vertical-align: top;\n",
       "    }\n",
       "\n",
       "    .dataframe thead th {\n",
       "        text-align: right;\n",
       "    }\n",
       "</style>\n",
       "<table border=\"1\" class=\"dataframe\">\n",
       "  <thead>\n",
       "    <tr style=\"text-align: right;\">\n",
       "      <th></th>\n",
       "      <th>album_id</th>\n",
       "      <th>name</th>\n",
       "      <th>release_date</th>\n",
       "      <th>total_tracks</th>\n",
       "      <th>url</th>\n",
       "    </tr>\n",
       "  </thead>\n",
       "  <tbody>\n",
       "    <tr>\n",
       "      <th>0</th>\n",
       "      <td>3Mm1P5CEEAiuJqBclr2EyU</td>\n",
       "      <td>Ella Baila Sola</td>\n",
       "      <td>2023-03-16</td>\n",
       "      <td>1</td>\n",
       "      <td>https://open.spotify.com/album/3Mm1P5CEEAiuJqB...</td>\n",
       "    </tr>\n",
       "    <tr>\n",
       "      <th>1</th>\n",
       "      <td>7aGzSSUD8S6IhPCsZSiuMT</td>\n",
       "      <td>un x100to</td>\n",
       "      <td>2023-04-17</td>\n",
       "      <td>1</td>\n",
       "      <td>https://open.spotify.com/album/7aGzSSUD8S6IhPC...</td>\n",
       "    </tr>\n",
       "    <tr>\n",
       "      <th>2</th>\n",
       "      <td>6aBVGuOUEuX18rHxyDWbti</td>\n",
       "      <td>La Bebe (Remix)</td>\n",
       "      <td>2023-03-17</td>\n",
       "      <td>2</td>\n",
       "      <td>https://open.spotify.com/album/6aBVGuOUEuX18rH...</td>\n",
       "    </tr>\n",
       "    <tr>\n",
       "      <th>3</th>\n",
       "      <td>0HiZ8fNXwJOQcrf5iflrdz</td>\n",
       "      <td>Endless Summer Vacation</td>\n",
       "      <td>2023-03-10</td>\n",
       "      <td>13</td>\n",
       "      <td>https://open.spotify.com/album/0HiZ8fNXwJOQcrf...</td>\n",
       "    </tr>\n",
       "    <tr>\n",
       "      <th>4</th>\n",
       "      <td>6NcI39WPu4kY6Tul11nhSv</td>\n",
       "      <td>Daylight</td>\n",
       "      <td>2023-04-14</td>\n",
       "      <td>1</td>\n",
       "      <td>https://open.spotify.com/album/6NcI39WPu4kY6Tu...</td>\n",
       "    </tr>\n",
       "  </tbody>\n",
       "</table>\n",
       "</div>"
      ],
      "text/plain": [
       "                 album_id                     name release_date  total_tracks   \n",
       "0  3Mm1P5CEEAiuJqBclr2EyU          Ella Baila Sola   2023-03-16             1  \\\n",
       "1  7aGzSSUD8S6IhPCsZSiuMT                un x100to   2023-04-17             1   \n",
       "2  6aBVGuOUEuX18rHxyDWbti          La Bebe (Remix)   2023-03-17             2   \n",
       "3  0HiZ8fNXwJOQcrf5iflrdz  Endless Summer Vacation   2023-03-10            13   \n",
       "4  6NcI39WPu4kY6Tul11nhSv                 Daylight   2023-04-14             1   \n",
       "\n",
       "                                                 url  \n",
       "0  https://open.spotify.com/album/3Mm1P5CEEAiuJqB...  \n",
       "1  https://open.spotify.com/album/7aGzSSUD8S6IhPC...  \n",
       "2  https://open.spotify.com/album/6aBVGuOUEuX18rH...  \n",
       "3  https://open.spotify.com/album/0HiZ8fNXwJOQcrf...  \n",
       "4  https://open.spotify.com/album/6NcI39WPu4kY6Tu...  "
      ]
     },
     "execution_count": 23,
     "metadata": {},
     "output_type": "execute_result"
    }
   ],
   "source": [
    "album_df.head()"
   ]
  },
  {
   "cell_type": "code",
   "execution_count": 24,
   "id": "ca7a5ae8",
   "metadata": {},
   "outputs": [
    {
     "name": "stdout",
     "output_type": "stream",
     "text": [
      "<class 'pandas.core.frame.DataFrame'>\n",
      "RangeIndex: 50 entries, 0 to 49\n",
      "Data columns (total 5 columns):\n",
      " #   Column        Non-Null Count  Dtype \n",
      "---  ------        --------------  ----- \n",
      " 0   album_id      50 non-null     object\n",
      " 1   name          50 non-null     object\n",
      " 2   release_date  50 non-null     object\n",
      " 3   total_tracks  50 non-null     int64 \n",
      " 4   url           50 non-null     object\n",
      "dtypes: int64(1), object(4)\n",
      "memory usage: 2.1+ KB\n"
     ]
    }
   ],
   "source": [
    "album_df.info()"
   ]
  },
  {
   "cell_type": "code",
   "execution_count": 25,
   "id": "3d1d2a05",
   "metadata": {},
   "outputs": [],
   "source": [
    "album_df = album_df.drop_duplicates(subset=['album_id']) # Album can be duplicates so drop duplicates"
   ]
  },
  {
   "cell_type": "code",
   "execution_count": 26,
   "id": "74cd91a7",
   "metadata": {},
   "outputs": [],
   "source": [
    "#Artist Dataframe\n",
    "artist_df = pd.DataFrame.from_dict(artist_list) # Artist can be duplicates so drop duplicates"
   ]
  },
  {
   "cell_type": "code",
   "execution_count": 27,
   "id": "a8901de1",
   "metadata": {},
   "outputs": [],
   "source": [
    "artist_df = artist_df.drop_duplicates(subset=['artist_id'])"
   ]
  },
  {
   "cell_type": "code",
   "execution_count": 28,
   "id": "c093b617",
   "metadata": {},
   "outputs": [],
   "source": [
    "#Song Dataframe\n",
    "song_df = pd.DataFrame.from_dict(song_list) #Song are Unqiue"
   ]
  },
  {
   "cell_type": "code",
   "execution_count": 29,
   "id": "0e5d7618",
   "metadata": {},
   "outputs": [
    {
     "data": {
      "text/html": [
       "<div>\n",
       "<style scoped>\n",
       "    .dataframe tbody tr th:only-of-type {\n",
       "        vertical-align: middle;\n",
       "    }\n",
       "\n",
       "    .dataframe tbody tr th {\n",
       "        vertical-align: top;\n",
       "    }\n",
       "\n",
       "    .dataframe thead th {\n",
       "        text-align: right;\n",
       "    }\n",
       "</style>\n",
       "<table border=\"1\" class=\"dataframe\">\n",
       "  <thead>\n",
       "    <tr style=\"text-align: right;\">\n",
       "      <th></th>\n",
       "      <th>song_id</th>\n",
       "      <th>song_name</th>\n",
       "      <th>duration_ms</th>\n",
       "      <th>url</th>\n",
       "      <th>popularity</th>\n",
       "      <th>song_added</th>\n",
       "      <th>album_id</th>\n",
       "      <th>artist_id</th>\n",
       "    </tr>\n",
       "  </thead>\n",
       "  <tbody>\n",
       "    <tr>\n",
       "      <th>0</th>\n",
       "      <td>3dnP0JxCgygwQH9Gm7q7nb</td>\n",
       "      <td>Ella Baila Sola</td>\n",
       "      <td>165671</td>\n",
       "      <td>https://open.spotify.com/track/3dnP0JxCgygwQH9...</td>\n",
       "      <td>100</td>\n",
       "      <td>2023-04-28T12:56:04Z</td>\n",
       "      <td>3Mm1P5CEEAiuJqBclr2EyU</td>\n",
       "      <td>0XeEobZplHxzM9QzFQWLiR</td>\n",
       "    </tr>\n",
       "    <tr>\n",
       "      <th>1</th>\n",
       "      <td>6pD0ufEQq0xdHSsRbg9LBK</td>\n",
       "      <td>un x100to</td>\n",
       "      <td>194563</td>\n",
       "      <td>https://open.spotify.com/track/6pD0ufEQq0xdHSs...</td>\n",
       "      <td>98</td>\n",
       "      <td>2023-04-28T12:56:04Z</td>\n",
       "      <td>7aGzSSUD8S6IhPCsZSiuMT</td>\n",
       "      <td>6XkjpgcEsYab502Vr1bBeW</td>\n",
       "    </tr>\n",
       "    <tr>\n",
       "      <th>2</th>\n",
       "      <td>2UW7JaomAMuX9pZrjVpHAU</td>\n",
       "      <td>La Bebe - Remix</td>\n",
       "      <td>234352</td>\n",
       "      <td>https://open.spotify.com/track/2UW7JaomAMuX9pZ...</td>\n",
       "      <td>98</td>\n",
       "      <td>2023-04-28T12:56:04Z</td>\n",
       "      <td>6aBVGuOUEuX18rHxyDWbti</td>\n",
       "      <td>1NNRWkhwmcXRimFYSBpB1y</td>\n",
       "    </tr>\n",
       "    <tr>\n",
       "      <th>3</th>\n",
       "      <td>4DHcnVTT87F0zZhRPYmZ3B</td>\n",
       "      <td>Flowers</td>\n",
       "      <td>200600</td>\n",
       "      <td>https://open.spotify.com/track/4DHcnVTT87F0zZh...</td>\n",
       "      <td>90</td>\n",
       "      <td>2023-04-28T12:56:04Z</td>\n",
       "      <td>0HiZ8fNXwJOQcrf5iflrdz</td>\n",
       "      <td>5YGY8feqx7naU7z4HrwZM6</td>\n",
       "    </tr>\n",
       "    <tr>\n",
       "      <th>4</th>\n",
       "      <td>1odExI7RdWc4BT515LTAwj</td>\n",
       "      <td>Daylight</td>\n",
       "      <td>212953</td>\n",
       "      <td>https://open.spotify.com/track/1odExI7RdWc4BT5...</td>\n",
       "      <td>94</td>\n",
       "      <td>2023-04-28T12:56:04Z</td>\n",
       "      <td>6NcI39WPu4kY6Tul11nhSv</td>\n",
       "      <td>33NVpKoXjItPwUJTMZIOiY</td>\n",
       "    </tr>\n",
       "  </tbody>\n",
       "</table>\n",
       "</div>"
      ],
      "text/plain": [
       "                  song_id        song_name  duration_ms   \n",
       "0  3dnP0JxCgygwQH9Gm7q7nb  Ella Baila Sola       165671  \\\n",
       "1  6pD0ufEQq0xdHSsRbg9LBK        un x100to       194563   \n",
       "2  2UW7JaomAMuX9pZrjVpHAU  La Bebe - Remix       234352   \n",
       "3  4DHcnVTT87F0zZhRPYmZ3B          Flowers       200600   \n",
       "4  1odExI7RdWc4BT515LTAwj         Daylight       212953   \n",
       "\n",
       "                                                 url  popularity   \n",
       "0  https://open.spotify.com/track/3dnP0JxCgygwQH9...         100  \\\n",
       "1  https://open.spotify.com/track/6pD0ufEQq0xdHSs...          98   \n",
       "2  https://open.spotify.com/track/2UW7JaomAMuX9pZ...          98   \n",
       "3  https://open.spotify.com/track/4DHcnVTT87F0zZh...          90   \n",
       "4  https://open.spotify.com/track/1odExI7RdWc4BT5...          94   \n",
       "\n",
       "             song_added                album_id               artist_id  \n",
       "0  2023-04-28T12:56:04Z  3Mm1P5CEEAiuJqBclr2EyU  0XeEobZplHxzM9QzFQWLiR  \n",
       "1  2023-04-28T12:56:04Z  7aGzSSUD8S6IhPCsZSiuMT  6XkjpgcEsYab502Vr1bBeW  \n",
       "2  2023-04-28T12:56:04Z  6aBVGuOUEuX18rHxyDWbti  1NNRWkhwmcXRimFYSBpB1y  \n",
       "3  2023-04-28T12:56:04Z  0HiZ8fNXwJOQcrf5iflrdz  5YGY8feqx7naU7z4HrwZM6  \n",
       "4  2023-04-28T12:56:04Z  6NcI39WPu4kY6Tul11nhSv  33NVpKoXjItPwUJTMZIOiY  "
      ]
     },
     "execution_count": 29,
     "metadata": {},
     "output_type": "execute_result"
    }
   ],
   "source": [
    "song_df.head()"
   ]
  },
  {
   "cell_type": "code",
   "execution_count": 30,
   "id": "5c422846",
   "metadata": {},
   "outputs": [
    {
     "data": {
      "text/html": [
       "<div>\n",
       "<style scoped>\n",
       "    .dataframe tbody tr th:only-of-type {\n",
       "        vertical-align: middle;\n",
       "    }\n",
       "\n",
       "    .dataframe tbody tr th {\n",
       "        vertical-align: top;\n",
       "    }\n",
       "\n",
       "    .dataframe thead th {\n",
       "        text-align: right;\n",
       "    }\n",
       "</style>\n",
       "<table border=\"1\" class=\"dataframe\">\n",
       "  <thead>\n",
       "    <tr style=\"text-align: right;\">\n",
       "      <th></th>\n",
       "      <th>artist_id</th>\n",
       "      <th>artist_name</th>\n",
       "      <th>external_url</th>\n",
       "    </tr>\n",
       "  </thead>\n",
       "  <tbody>\n",
       "    <tr>\n",
       "      <th>0</th>\n",
       "      <td>0XeEobZplHxzM9QzFQWLiR</td>\n",
       "      <td>Eslabon Armado</td>\n",
       "      <td>https://api.spotify.com/v1/artists/0XeEobZplHx...</td>\n",
       "    </tr>\n",
       "    <tr>\n",
       "      <th>1</th>\n",
       "      <td>12GqGscKJx3aE4t07u7eVZ</td>\n",
       "      <td>Peso Pluma</td>\n",
       "      <td>https://api.spotify.com/v1/artists/12GqGscKJx3...</td>\n",
       "    </tr>\n",
       "    <tr>\n",
       "      <th>2</th>\n",
       "      <td>6XkjpgcEsYab502Vr1bBeW</td>\n",
       "      <td>Grupo Frontera</td>\n",
       "      <td>https://api.spotify.com/v1/artists/6XkjpgcEsYa...</td>\n",
       "    </tr>\n",
       "    <tr>\n",
       "      <th>3</th>\n",
       "      <td>4q3ewBCX7sLwd24euuV69X</td>\n",
       "      <td>Bad Bunny</td>\n",
       "      <td>https://api.spotify.com/v1/artists/4q3ewBCX7sL...</td>\n",
       "    </tr>\n",
       "    <tr>\n",
       "      <th>4</th>\n",
       "      <td>1NNRWkhwmcXRimFYSBpB1y</td>\n",
       "      <td>Yng Lvcas</td>\n",
       "      <td>https://api.spotify.com/v1/artists/1NNRWkhwmcX...</td>\n",
       "    </tr>\n",
       "  </tbody>\n",
       "</table>\n",
       "</div>"
      ],
      "text/plain": [
       "                artist_id     artist_name   \n",
       "0  0XeEobZplHxzM9QzFQWLiR  Eslabon Armado  \\\n",
       "1  12GqGscKJx3aE4t07u7eVZ      Peso Pluma   \n",
       "2  6XkjpgcEsYab502Vr1bBeW  Grupo Frontera   \n",
       "3  4q3ewBCX7sLwd24euuV69X       Bad Bunny   \n",
       "4  1NNRWkhwmcXRimFYSBpB1y       Yng Lvcas   \n",
       "\n",
       "                                        external_url  \n",
       "0  https://api.spotify.com/v1/artists/0XeEobZplHx...  \n",
       "1  https://api.spotify.com/v1/artists/12GqGscKJx3...  \n",
       "2  https://api.spotify.com/v1/artists/6XkjpgcEsYa...  \n",
       "3  https://api.spotify.com/v1/artists/4q3ewBCX7sL...  \n",
       "4  https://api.spotify.com/v1/artists/1NNRWkhwmcX...  "
      ]
     },
     "execution_count": 30,
     "metadata": {},
     "output_type": "execute_result"
    }
   ],
   "source": [
    "artist_df.head()"
   ]
  },
  {
   "cell_type": "code",
   "execution_count": 31,
   "id": "2f64eb16",
   "metadata": {},
   "outputs": [
    {
     "data": {
      "text/html": [
       "<div>\n",
       "<style scoped>\n",
       "    .dataframe tbody tr th:only-of-type {\n",
       "        vertical-align: middle;\n",
       "    }\n",
       "\n",
       "    .dataframe tbody tr th {\n",
       "        vertical-align: top;\n",
       "    }\n",
       "\n",
       "    .dataframe thead th {\n",
       "        text-align: right;\n",
       "    }\n",
       "</style>\n",
       "<table border=\"1\" class=\"dataframe\">\n",
       "  <thead>\n",
       "    <tr style=\"text-align: right;\">\n",
       "      <th></th>\n",
       "      <th>album_id</th>\n",
       "      <th>name</th>\n",
       "      <th>release_date</th>\n",
       "      <th>total_tracks</th>\n",
       "      <th>url</th>\n",
       "    </tr>\n",
       "  </thead>\n",
       "  <tbody>\n",
       "    <tr>\n",
       "      <th>0</th>\n",
       "      <td>3Mm1P5CEEAiuJqBclr2EyU</td>\n",
       "      <td>Ella Baila Sola</td>\n",
       "      <td>2023-03-16</td>\n",
       "      <td>1</td>\n",
       "      <td>https://open.spotify.com/album/3Mm1P5CEEAiuJqB...</td>\n",
       "    </tr>\n",
       "    <tr>\n",
       "      <th>1</th>\n",
       "      <td>7aGzSSUD8S6IhPCsZSiuMT</td>\n",
       "      <td>un x100to</td>\n",
       "      <td>2023-04-17</td>\n",
       "      <td>1</td>\n",
       "      <td>https://open.spotify.com/album/7aGzSSUD8S6IhPC...</td>\n",
       "    </tr>\n",
       "    <tr>\n",
       "      <th>2</th>\n",
       "      <td>6aBVGuOUEuX18rHxyDWbti</td>\n",
       "      <td>La Bebe (Remix)</td>\n",
       "      <td>2023-03-17</td>\n",
       "      <td>2</td>\n",
       "      <td>https://open.spotify.com/album/6aBVGuOUEuX18rH...</td>\n",
       "    </tr>\n",
       "    <tr>\n",
       "      <th>3</th>\n",
       "      <td>0HiZ8fNXwJOQcrf5iflrdz</td>\n",
       "      <td>Endless Summer Vacation</td>\n",
       "      <td>2023-03-10</td>\n",
       "      <td>13</td>\n",
       "      <td>https://open.spotify.com/album/0HiZ8fNXwJOQcrf...</td>\n",
       "    </tr>\n",
       "    <tr>\n",
       "      <th>4</th>\n",
       "      <td>6NcI39WPu4kY6Tul11nhSv</td>\n",
       "      <td>Daylight</td>\n",
       "      <td>2023-04-14</td>\n",
       "      <td>1</td>\n",
       "      <td>https://open.spotify.com/album/6NcI39WPu4kY6Tu...</td>\n",
       "    </tr>\n",
       "  </tbody>\n",
       "</table>\n",
       "</div>"
      ],
      "text/plain": [
       "                 album_id                     name release_date  total_tracks   \n",
       "0  3Mm1P5CEEAiuJqBclr2EyU          Ella Baila Sola   2023-03-16             1  \\\n",
       "1  7aGzSSUD8S6IhPCsZSiuMT                un x100to   2023-04-17             1   \n",
       "2  6aBVGuOUEuX18rHxyDWbti          La Bebe (Remix)   2023-03-17             2   \n",
       "3  0HiZ8fNXwJOQcrf5iflrdz  Endless Summer Vacation   2023-03-10            13   \n",
       "4  6NcI39WPu4kY6Tul11nhSv                 Daylight   2023-04-14             1   \n",
       "\n",
       "                                                 url  \n",
       "0  https://open.spotify.com/album/3Mm1P5CEEAiuJqB...  \n",
       "1  https://open.spotify.com/album/7aGzSSUD8S6IhPC...  \n",
       "2  https://open.spotify.com/album/6aBVGuOUEuX18rH...  \n",
       "3  https://open.spotify.com/album/0HiZ8fNXwJOQcrf...  \n",
       "4  https://open.spotify.com/album/6NcI39WPu4kY6Tu...  "
      ]
     },
     "execution_count": 31,
     "metadata": {},
     "output_type": "execute_result"
    }
   ],
   "source": [
    "album_df.head()"
   ]
  },
  {
   "cell_type": "markdown",
   "id": "75418803",
   "metadata": {},
   "source": [
    "**Convert From Object (release date, song added)  to Datetime Format**"
   ]
  },
  {
   "cell_type": "code",
   "execution_count": 32,
   "id": "edc11709",
   "metadata": {},
   "outputs": [],
   "source": [
    "album_df['release_date'] = pd.to_datetime(album_df['release_date'])"
   ]
  },
  {
   "cell_type": "code",
   "execution_count": 34,
   "id": "442b48b6",
   "metadata": {},
   "outputs": [],
   "source": [
    "song_df['song_added'] =  pd.to_datetime(song_df['song_added'])"
   ]
  },
  {
   "cell_type": "code",
   "execution_count": 35,
   "id": "46f512ea",
   "metadata": {},
   "outputs": [
    {
     "name": "stdout",
     "output_type": "stream",
     "text": [
      "<class 'pandas.core.frame.DataFrame'>\n",
      "RangeIndex: 50 entries, 0 to 49\n",
      "Data columns (total 8 columns):\n",
      " #   Column       Non-Null Count  Dtype              \n",
      "---  ------       --------------  -----              \n",
      " 0   song_id      50 non-null     object             \n",
      " 1   song_name    50 non-null     object             \n",
      " 2   duration_ms  50 non-null     int64              \n",
      " 3   url          50 non-null     object             \n",
      " 4   popularity   50 non-null     int64              \n",
      " 5   song_added   50 non-null     datetime64[ns, UTC]\n",
      " 6   album_id     50 non-null     object             \n",
      " 7   artist_id    50 non-null     object             \n",
      "dtypes: datetime64[ns, UTC](1), int64(2), object(5)\n",
      "memory usage: 3.3+ KB\n"
     ]
    }
   ],
   "source": [
    "song_df.info()"
   ]
  },
  {
   "cell_type": "code",
   "execution_count": null,
   "id": "110e06c3",
   "metadata": {},
   "outputs": [],
   "source": []
  }
 ],
 "metadata": {
  "kernelspec": {
   "display_name": "Python 3 (ipykernel)",
   "language": "python",
   "name": "python3"
  },
  "language_info": {
   "codemirror_mode": {
    "name": "ipython",
    "version": 3
   },
   "file_extension": ".py",
   "mimetype": "text/x-python",
   "name": "python",
   "nbconvert_exporter": "python",
   "pygments_lexer": "ipython3",
   "version": "3.11.3"
  }
 },
 "nbformat": 4,
 "nbformat_minor": 5
}
